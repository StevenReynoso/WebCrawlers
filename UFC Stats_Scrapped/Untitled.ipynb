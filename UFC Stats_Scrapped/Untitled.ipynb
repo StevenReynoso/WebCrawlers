{
 "cells": [
  {
   "cell_type": "code",
   "execution_count": 1,
   "id": "0b5506ec",
   "metadata": {},
   "outputs": [],
   "source": [
    "import pandas as pd\n",
    "import numpy as np\n",
    "import matplotlib.pyplot as plt\n",
    "import seaborn as sns\n",
    "import re\n",
    "%matplotlib inline"
   ]
  },
  {
   "cell_type": "code",
   "execution_count": 2,
   "id": "9a466b21",
   "metadata": {},
   "outputs": [],
   "source": [
    "import requests\n",
    "from bs4 import BeautifulSoup\n",
    "from urllib.parse import urljoin, urlparse\n",
    "from urllib import request\n",
    "from urllib.request import urlopen\n",
    "from string import ascii_lowercase as alc"
   ]
  },
  {
   "cell_type": "code",
   "execution_count": 3,
   "id": "724ceeca",
   "metadata": {},
   "outputs": [],
   "source": [
    "base_url = \"http://www.ufcstats.com/fighter-details/2284092f8b63273b\""
   ]
  },
  {
   "cell_type": "code",
   "execution_count": 4,
   "id": "788569ff",
   "metadata": {},
   "outputs": [],
   "source": [
    "url = base_url\n",
    "response = requests.get(url)"
   ]
  },
  {
   "cell_type": "code",
   "execution_count": 11,
   "id": "9686c912",
   "metadata": {},
   "outputs": [],
   "source": [
    "soup = BeautifulSoup(response.text, 'html.parser')"
   ]
  },
  {
   "cell_type": "code",
   "execution_count": 28,
   "id": "d81ad05f",
   "metadata": {},
   "outputs": [],
   "source": [
    "career_stats_box = soup.find('ul', class_='b-list__box-list b-list__box-list_margin-top')\n",
    "career_stats_box_right = soup.find('div', class_='b-list__info-box-right b-list__info-box_style-margin-right')"
   ]
  },
  {
   "cell_type": "code",
   "execution_count": 29,
   "id": "581475b4",
   "metadata": {},
   "outputs": [
    {
     "name": "stdout",
     "output_type": "stream",
     "text": [
      "<div class=\"b-list__info-box-right b-list__info-box_style-margin-right\">\n",
      "<ul class=\"b-list__box-list b-list__box-list_margin-top\">\n",
      "<li class=\"b-list__box-list-item b-list__box-list-item_type_block\">\n",
      "<i class=\"b-list__box-item-title b-list__box-item-title_type_width\">\n",
      "</i>\n",
      "</li>\n",
      "<li class=\"b-list__box-list-item b-list__box-list-item_type_block\">\n",
      "<i class=\"b-list__box-item-title b-list__box-item-title_font_lowercase b-list__box-item-title_type_width\">\n",
      "            TD Avg.:\n",
      "          </i>\n",
      "          0.74\n",
      "        </li>\n",
      "<li class=\"b-list__box-list-item b-list__box-list-item_type_block\">\n",
      "<i class=\"b-list__box-item-title b-list__box-item-title_font_lowercase b-list__box-item-title_type_width\">\n",
      "            TD Acc.:\n",
      "          </i>\n",
      "          33%\n",
      "        </li>\n",
      "<li class=\"b-list__box-list-item b-list__box-list-item_type_block\">\n",
      "<i class=\"b-list__box-item-title b-list__box-item-title_font_lowercase b-list__box-item-title_type_width\">\n",
      "            TD Def.:\n",
      "          </i>\n",
      "          80%\n",
      "        </li>\n",
      "<li class=\"b-list__box-list-item b-list__box-list-item_type_block\">\n",
      "<i class=\"b-list__box-item-title b-list__box-item-title_font_lowercase b-list__box-item-title_type_width\">\n",
      "            Sub. Avg.:\n",
      "          </i>\n",
      "          0.0\n",
      "        </li>\n",
      "</ul>\n",
      "</div>\n"
     ]
    }
   ],
   "source": [
    "print(career_stats_box_right)"
   ]
  },
  {
   "cell_type": "code",
   "execution_count": 26,
   "id": "d0db2d95",
   "metadata": {},
   "outputs": [
    {
     "name": "stdout",
     "output_type": "stream",
     "text": [
      "<ul class=\"b-list__box-list b-list__box-list_margin-top\">\n",
      "<li class=\"b-list__box-list-item b-list__box-list-item_type_block\">\n",
      "<i class=\"b-list__box-item-title b-list__box-item-title_font_lowercase b-list__box-item-title_type_width\">\n",
      "            SLpM:\n",
      "          </i>\n",
      "\n",
      "          4.56\n",
      "\n",
      "        </li>\n",
      "<li class=\"b-list__box-list-item b-list__box-list-item_type_block\">\n",
      "<i class=\"b-list__box-item-title b-list__box-item-title_font_lowercase b-list__box-item-title_type_width\">\n",
      "            Str. Acc.:\n",
      "          </i>\n",
      "          32%\n",
      "        </li>\n",
      "<li class=\"b-list__box-list-item b-list__box-list-item_type_block\">\n",
      "<i class=\"b-list__box-item-title b-list__box-item-title_font_lowercase b-list__box-item-title_type_width\">\n",
      "            SApM:\n",
      "          </i>\n",
      "          4.46\n",
      "        </li>\n",
      "<li class=\"b-list__box-list-item b-list__box-list-item_type_block\">\n",
      "<i class=\"b-list__box-item-title b-list__box-item-title_font_lowercase b-list__box-item-title_type_width\">\n",
      "            Str. Def:\n",
      "          </i>\n",
      "          62%\n",
      "        </li>\n",
      "</ul>\n"
     ]
    }
   ],
   "source": [
    "print(career_stats_box)"
   ]
  },
  {
   "cell_type": "code",
   "execution_count": null,
   "id": "25c50479",
   "metadata": {},
   "outputs": [],
   "source": []
  }
 ],
 "metadata": {
  "kernelspec": {
   "display_name": "Python 3 (ipykernel)",
   "language": "python",
   "name": "python3"
  },
  "language_info": {
   "codemirror_mode": {
    "name": "ipython",
    "version": 3
   },
   "file_extension": ".py",
   "mimetype": "text/x-python",
   "name": "python",
   "nbconvert_exporter": "python",
   "pygments_lexer": "ipython3",
   "version": "3.11.5"
  }
 },
 "nbformat": 4,
 "nbformat_minor": 5
}
